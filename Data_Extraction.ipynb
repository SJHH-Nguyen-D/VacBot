{
  "nbformat": 4,
  "nbformat_minor": 0,
  "metadata": {
    "colab": {
      "name": "Data_Extraction.ipynb",
      "provenance": [],
      "mount_file_id": "13K5lrnioGjAS5jwLhhbU7JQwOhRovHOV",
      "authorship_tag": "ABX9TyMpLkeSMbcCkznGy+N4XnoJ",
      "include_colab_link": true
    },
    "kernelspec": {
      "name": "python3",
      "display_name": "Python 3"
    }
  },
  "cells": [
    {
      "cell_type": "markdown",
      "metadata": {
        "id": "view-in-github",
        "colab_type": "text"
      },
      "source": [
        "<a href=\"https://colab.research.google.com/github/johnallotey/VacBot/blob/Dev/Data_Extraction.ipynb\" target=\"_parent\"><img src=\"https://colab.research.google.com/assets/colab-badge.svg\" alt=\"Open In Colab\"/></a>"
      ]
    },
    {
      "cell_type": "code",
      "metadata": {
        "id": "RYSFwG_LDRle",
        "colab_type": "code",
        "colab": {}
      },
      "source": [
        "import json"
      ],
      "execution_count": 0,
      "outputs": []
    },
    {
      "cell_type": "code",
      "metadata": {
        "id": "6Z0TwulDDTf3",
        "colab_type": "code",
        "colab": {}
      },
      "source": [
        "f = open(\"convoExtract.txt\", \"w\")\n",
        "with open('/content/drive/My Drive/frames.json') as json_file:\n",
        "\tdata = json.load(json_file)\n",
        "\ti =0\n",
        "\tfor convo in data:\n",
        "\t\tarray=convo['turns']\n",
        "\t\tnum = 1\n",
        "\t\ti +=1\n",
        "\t\tfor msgObj in array:\n",
        "\t\t\tphrase = msgObj['text'] + '\\n'\n",
        "\t\t\tnum +=1\n",
        "\t\t\tf.write(phrase)\n",
        "\t\tf.write('\\n')\n",
        "\t\tf.write('\\n')\n",
        "\t\t#print(json.dumps(array, indent=2, sort_keys=True))\n",
        "\t\tif i ==20:\n",
        "\t\t\tbreak;\n",
        "\n",
        "f.close()"
      ],
      "execution_count": 0,
      "outputs": []
    },
    {
      "cell_type": "code",
      "metadata": {
        "id": "mWXBNspjDqvx",
        "colab_type": "code",
        "colab": {}
      },
      "source": [
        ""
      ],
      "execution_count": 0,
      "outputs": []
    }
  ]
}